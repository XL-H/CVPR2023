{
 "cells": [
  {
   "cell_type": "markdown",
   "metadata": {},
   "source": [
    "### Inference"
   ]
  },
  {
   "cell_type": "code",
   "execution_count": null,
   "metadata": {},
   "outputs": [],
   "source": [
    "!python CVPR/inference_people_car_cl.py \\\n",
    "--test_data_path data/test/test_images \\\n",
    "--config-name config_eva_vit_people_car_cl \\\n",
    "--image-size 224 \\\n",
    "--batch-size 32 \\\n",
    "--model_path output/cl/eva-l/eva-cl-l_best_ep2.pth \\\n",
    "--num-workers 8 \\\n",
    "--nbatch_log 300 \\\n",
    "--fold 1"
   ]
  },
  {
   "cell_type": "code",
   "execution_count": null,
   "metadata": {},
   "outputs": [],
   "source": []
  },
  {
   "cell_type": "code",
   "execution_count": null,
   "metadata": {},
   "outputs": [],
   "source": [
    "import pandas as pd\n",
    "df = pd.read_csv('output/test_people_car_cl_pred.csv')\n",
    "imgs = df['img_path'].tolist()\n",
    "preds = df['label'].tolist()\n",
    "labels = list(map(lambda x:int(x.split('/')[-1].split('.')[0].isdigit()), imgs))\n",
    "for i, j in zip(preds, labels):\n",
    "    if i!=j:\n",
    "        print(preds)"
   ]
  }
 ],
 "metadata": {
  "kernelspec": {
   "display_name": "Python 3 (ipykernel)",
   "language": "python",
   "name": "python3"
  },
  "language_info": {
   "codemirror_mode": {
    "name": "ipython",
    "version": 3
   },
   "file_extension": ".py",
   "mimetype": "text/x-python",
   "name": "python",
   "nbconvert_exporter": "python",
   "pygments_lexer": "ipython3",
   "version": "3.8.10"
  },
  "vscode": {
   "interpreter": {
    "hash": "dc1fdf8315257af72404463f1ae84f6485d5212ca50b6e6157cecf4644ce291f"
   }
  }
 },
 "nbformat": 4,
 "nbformat_minor": 4
}
