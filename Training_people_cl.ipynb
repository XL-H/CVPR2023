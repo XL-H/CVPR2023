{
 "cells": [
  {
   "cell_type": "markdown",
   "metadata": {},
   "source": [
    "### people_cl"
   ]
  },
  {
   "cell_type": "code",
   "execution_count": null,
   "metadata": {},
   "outputs": [],
   "source": []
  },
  {
   "cell_type": "code",
   "execution_count": null,
   "metadata": {},
   "outputs": [],
   "source": [
    "!CUDA_VISIBEL_DEVICES=0 \\\n",
    "TORCH_DISTRIBUTED_DEBUG=DETAIL \\\n",
    "python -m torch.distributed.launch --nproc_per_node=1 \\\n",
    "CVPR/train_people_cl.py \\\n",
    "--csv-dir data/train_val_peoples_code_fold_0.csv \\\n",
    "--config-name 'config_eva_vit_people_cl' \\\n",
    "--image-size 224 \\\n",
    "--epochs 16 \\\n",
    "--init-lr 3e-5 \\\n",
    "--batch-size 32 \\\n",
    "--num-workers 8 \\\n",
    "--nbatch_log 300 \\\n",
    "--warmup_epochs 1 \\\n",
    "--fold 1"
   ]
  },
  {
   "cell_type": "code",
   "execution_count": null,
   "metadata": {},
   "outputs": [],
   "source": [
    "!CUDA_VISIBEL_DEVICES=0 \\\n",
    "TORCH_DISTRIBUTED_DEBUG=DETAIL \\\n",
    "python -m torch.distributed.launch --nproc_per_node=1 \\\n",
    "CVPR/train_people_cl.py \\\n",
    "--csv-dir data/train_val_peoples_code_fold_1.csv \\\n",
    "--config-name 'config_eva_vit_people_cl' \\\n",
    "--image-size 224 \\\n",
    "--epochs 16 \\\n",
    "--init-lr 3e-5 \\\n",
    "--batch-size 32 \\\n",
    "--num-workers 8 \\\n",
    "--nbatch_log 300 \\\n",
    "--warmup_epochs 1 \\\n",
    "--fold 1"
   ]
  },
  {
   "cell_type": "code",
   "execution_count": null,
   "metadata": {},
   "outputs": [],
   "source": [
    "!CUDA_VISIBEL_DEVICES=0 \\\n",
    "TORCH_DISTRIBUTED_DEBUG=DETAIL \\\n",
    "python -m torch.distributed.launch --nproc_per_node=1 \\\n",
    "CVPR/train_people_cl.py \\\n",
    "--csv-dir data/train_val_peoples_code_fold_2.csv \\\n",
    "--config-name 'config_eva_vit_people_cl' \\\n",
    "--image-size 224 \\\n",
    "--epochs 16 \\\n",
    "--init-lr 3e-5 \\\n",
    "--batch-size 32 \\\n",
    "--num-workers 8 \\\n",
    "--nbatch_log 300 \\\n",
    "--warmup_epochs 1 \\\n",
    "--fold 1"
   ]
  },
  {
   "cell_type": "code",
   "execution_count": null,
   "metadata": {},
   "outputs": [],
   "source": [
    "!CUDA_VISIBEL_DEVICES=0 \\\n",
    "TORCH_DISTRIBUTED_DEBUG=DETAIL \\\n",
    "python -m torch.distributed.launch --nproc_per_node=1 \\\n",
    "CVPR/train_people_cl.py \\\n",
    "--csv-dir data/train_val_peoples_code_fold_3.csv \\\n",
    "--config-name 'config_eva_vit_people_cl' \\\n",
    "--image-size 224 \\\n",
    "--epochs 16 \\\n",
    "--init-lr 3e-5 \\\n",
    "--batch-size 32 \\\n",
    "--num-workers 8 \\\n",
    "--nbatch_log 300 \\\n",
    "--warmup_epochs 1 \\\n",
    "--fold 1"
   ]
  },
  {
   "cell_type": "code",
   "execution_count": null,
   "metadata": {},
   "outputs": [],
   "source": [
    "!CUDA_VISIBEL_DEVICES=0 \\\n",
    "TORCH_DISTRIBUTED_DEBUG=DETAIL \\\n",
    "python -m torch.distributed.launch --nproc_per_node=1 \\\n",
    "CVPR/train_people_cl.py \\\n",
    "--csv-dir data/train_val_peoples_code_fold_4.csv \\\n",
    "--config-name 'config_eva_vit_people_cl' \\\n",
    "--image-size 224 \\\n",
    "--epochs 16 \\\n",
    "--init-lr 3e-5 \\\n",
    "--batch-size 32 \\\n",
    "--num-workers 8 \\\n",
    "--nbatch_log 300 \\\n",
    "--warmup_epochs 1 \\\n",
    "--fold 1"
   ]
  },
  {
   "cell_type": "code",
   "execution_count": null,
   "metadata": {},
   "outputs": [],
   "source": [
    "!CUDA_VISIBEL_DEVICES=0 \\\n",
    "TORCH_DISTRIBUTED_DEBUG=DETAIL \\\n",
    "python -m torch.distributed.launch --nproc_per_node=1 \\\n",
    "CVPR/train_people_cl.py \\\n",
    "--csv-dir data/train_val_peoples_code_fold_5.csv \\\n",
    "--config-name 'config_eva_vit_people_cl' \\\n",
    "--image-size 224 \\\n",
    "--epochs 16 \\\n",
    "--init-lr 3e-5 \\\n",
    "--batch-size 32 \\\n",
    "--num-workers 8 \\\n",
    "--nbatch_log 300 \\\n",
    "--warmup_epochs 1 \\\n",
    "--fold 1"
   ]
  },
  {
   "cell_type": "code",
   "execution_count": null,
   "metadata": {},
   "outputs": [],
   "source": [
    "!CUDA_VISIBEL_DEVICES=0 \\\n",
    "TORCH_DISTRIBUTED_DEBUG=DETAIL \\\n",
    "python -m torch.distributed.launch --nproc_per_node=1 \\\n",
    "CVPR/train_people_cl.py \\\n",
    "--csv-dir data/train_val_peoples_code_fold_6.csv \\\n",
    "--config-name 'config_eva_vit_people_cl' \\\n",
    "--image-size 224 \\\n",
    "--epochs 16 \\\n",
    "--init-lr 3e-5 \\\n",
    "--batch-size 32 \\\n",
    "--num-workers 8 \\\n",
    "--nbatch_log 300 \\\n",
    "--warmup_epochs 1 \\\n",
    "--fold 1"
   ]
  },
  {
   "cell_type": "code",
   "execution_count": null,
   "metadata": {},
   "outputs": [],
   "source": [
    "!CUDA_VISIBEL_DEVICES=0 \\\n",
    "TORCH_DISTRIBUTED_DEBUG=DETAIL \\\n",
    "python -m torch.distributed.launch --nproc_per_node=1 \\\n",
    "CVPR/train_people_cl.py \\\n",
    "--csv-dir data/train_val_peoples_code_fold_7.csv \\\n",
    "--config-name 'config_eva_vit_people_cl' \\\n",
    "--image-size 224 \\\n",
    "--epochs 16 \\\n",
    "--init-lr 3e-5 \\\n",
    "--batch-size 32 \\\n",
    "--num-workers 8 \\\n",
    "--nbatch_log 300 \\\n",
    "--warmup_epochs 1 \\\n",
    "--fold 1"
   ]
  },
  {
   "cell_type": "code",
   "execution_count": null,
   "metadata": {},
   "outputs": [],
   "source": [
    "!CUDA_VISIBEL_DEVICES=0 \\\n",
    "TORCH_DISTRIBUTED_DEBUG=DETAIL \\\n",
    "python -m torch.distributed.launch --nproc_per_node=1 \\\n",
    "CVPR/train_people_cl.py \\\n",
    "--csv-dir data/train_val_peoples_code_fold_8.csv \\\n",
    "--config-name 'config_eva_vit_people_cl' \\\n",
    "--image-size 224 \\\n",
    "--epochs 16 \\\n",
    "--init-lr 3e-5 \\\n",
    "--batch-size 32 \\\n",
    "--num-workers 8 \\\n",
    "--nbatch_log 300 \\\n",
    "--warmup_epochs 1 \\\n",
    "--fold 1"
   ]
  },
  {
   "cell_type": "code",
   "execution_count": null,
   "metadata": {},
   "outputs": [],
   "source": [
    "!CUDA_VISIBEL_DEVICES=0 \\\n",
    "TORCH_DISTRIBUTED_DEBUG=DETAIL \\\n",
    "python -m torch.distributed.launch --nproc_per_node=1 \\\n",
    "CVPR/train_people_cl.py \\\n",
    "--csv-dir data/train_val_peoples_code_fold_9.csv \\\n",
    "--config-name 'config_eva_vit_people_cl' \\\n",
    "--image-size 224 \\\n",
    "--epochs 16 \\\n",
    "--init-lr 3e-5 \\\n",
    "--batch-size 32 \\\n",
    "--num-workers 8 \\\n",
    "--nbatch_log 300 \\\n",
    "--warmup_epochs 1 \\\n",
    "--fold 1"
   ]
  },
  {
   "cell_type": "code",
   "execution_count": null,
   "metadata": {},
   "outputs": [],
   "source": [
    "!CUDA_VISIBEL_DEVICES=0 \\\n",
    "TORCH_DISTRIBUTED_DEBUG=DETAIL \\\n",
    "python -m torch.distributed.launch --nproc_per_node=1 \\\n",
    "CVPR/train_people_cl.py \\\n",
    "--csv-dir data/train_val_peoples_code_fold_10.csv \\\n",
    "--config-name 'config_eva_vit_people_cl' \\\n",
    "--image-size 224 \\\n",
    "--epochs 16 \\\n",
    "--init-lr 3e-5 \\\n",
    "--batch-size 32 \\\n",
    "--num-workers 8 \\\n",
    "--nbatch_log 300 \\\n",
    "--warmup_epochs 1 \\\n",
    "--fold 1"
   ]
  },
  {
   "cell_type": "code",
   "execution_count": null,
   "metadata": {},
   "outputs": [],
   "source": [
    "!CUDA_VISIBEL_DEVICES=0 \\\n",
    "TORCH_DISTRIBUTED_DEBUG=DETAIL \\\n",
    "python -m torch.distributed.launch --nproc_per_node=1 \\\n",
    "CVPR/train_people_cl.py \\\n",
    "--csv-dir data/train_val_peoples_code_fold_11.csv \\\n",
    "--config-name 'config_eva_vit_people_cl' \\\n",
    "--image-size 224 \\\n",
    "--epochs 16 \\\n",
    "--init-lr 3e-5 \\\n",
    "--batch-size 32 \\\n",
    "--num-workers 8 \\\n",
    "--nbatch_log 300 \\\n",
    "--warmup_epochs 1 \\\n",
    "--fold 1"
   ]
  },
  {
   "cell_type": "markdown",
   "metadata": {},
   "source": [
    "* eva-448"
   ]
  },
  {
   "cell_type": "code",
   "execution_count": null,
   "metadata": {},
   "outputs": [],
   "source": [
    "!CUDA_VISIBEL_DEVICES=0 \\\n",
    "python -m torch.distributed.launch --nproc_per_node=1 \\\n",
    "CVPR/train_people_cl.py \\\n",
    "--csv-dir data/train_val_peoples_code_fold_0.csv \\\n",
    "--config-name 'config_eva_02_car_cl' \\\n",
    "--image-size 448 \\\n",
    "--epochs 10 \\\n",
    "--init-lr 3e-5 \\\n",
    "--batch-size 32 \\\n",
    "--num-workers 8 \\\n",
    "--nbatch_log 300 \\\n",
    "--warmup_epochs 0 \\\n",
    "--fold 1"
   ]
  },
  {
   "cell_type": "code",
   "execution_count": null,
   "metadata": {},
   "outputs": [],
   "source": [
    "!CUDA_VISIBEL_DEVICES=0 \\\n",
    "python -m torch.distributed.launch --nproc_per_node=1 \\\n",
    "CVPR/train_people_cl.py \\\n",
    "--csv-dir data/train_val_peoples_code_fold_1.csv \\\n",
    "--config-name 'config_eva_02_car_cl' \\\n",
    "--image-size 448 \\\n",
    "--epochs 10 \\\n",
    "--init-lr 3e-5 \\\n",
    "--batch-size 32 \\\n",
    "--num-workers 8 \\\n",
    "--nbatch_log 300 \\\n",
    "--warmup_epochs 0 \\\n",
    "--fold 1"
   ]
  },
  {
   "cell_type": "code",
   "execution_count": null,
   "metadata": {},
   "outputs": [],
   "source": [
    "!CUDA_VISIBEL_DEVICES=0 \\\n",
    "python -m torch.distributed.launch --nproc_per_node=1 \\\n",
    "CVPR/train_people_cl.py \\\n",
    "--csv-dir data/train_val_peoples_code_fold_2.csv \\\n",
    "--config-name 'config_eva_02_car_cl' \\\n",
    "--image-size 448 \\\n",
    "--epochs 10 \\\n",
    "--init-lr 3e-5 \\\n",
    "--batch-size 32 \\\n",
    "--num-workers 8 \\\n",
    "--nbatch_log 300 \\\n",
    "--warmup_epochs 0 \\\n",
    "--fold 1"
   ]
  },
  {
   "cell_type": "code",
   "execution_count": null,
   "metadata": {},
   "outputs": [],
   "source": [
    "!CUDA_VISIBEL_DEVICES=0 \\\n",
    "python -m torch.distributed.launch --nproc_per_node=1 \\\n",
    "CVPR/train_people_cl.py \\\n",
    "--csv-dir data/train_val_peoples_code_fold_3.csv \\\n",
    "--config-name 'config_eva_02_car_cl' \\\n",
    "--image-size 448 \\\n",
    "--epochs 10 \\\n",
    "--init-lr 3e-5 \\\n",
    "--batch-size 32 \\\n",
    "--num-workers 8 \\\n",
    "--nbatch_log 300 \\\n",
    "--warmup_epochs 0 \\\n",
    "--fold 1"
   ]
  },
  {
   "cell_type": "code",
   "execution_count": null,
   "metadata": {},
   "outputs": [],
   "source": [
    "!CUDA_VISIBEL_DEVICES=0 \\\n",
    "python -m torch.distributed.launch --nproc_per_node=1 \\\n",
    "CVPR/train_people_cl.py \\\n",
    "--csv-dir data/train_val_peoples_code_fold_4.csv \\\n",
    "--config-name 'config_eva_02_car_cl' \\\n",
    "--image-size 448 \\\n",
    "--epochs 10 \\\n",
    "--init-lr 3e-5 \\\n",
    "--batch-size 32 \\\n",
    "--num-workers 8 \\\n",
    "--nbatch_log 300 \\\n",
    "--warmup_epochs 0 \\\n",
    "--fold 1"
   ]
  },
  {
   "cell_type": "code",
   "execution_count": null,
   "metadata": {},
   "outputs": [],
   "source": [
    "!CUDA_VISIBEL_DEVICES=0 \\\n",
    "python -m torch.distributed.launch --nproc_per_node=1 \\\n",
    "CVPR/train_people_cl.py \\\n",
    "--csv-dir data/train_val_peoples_code_fold_5.csv \\\n",
    "--config-name 'config_eva_02_car_cl' \\\n",
    "--image-size 448 \\\n",
    "--epochs 10 \\\n",
    "--init-lr 3e-5 \\\n",
    "--batch-size 32 \\\n",
    "--num-workers 8 \\\n",
    "--nbatch_log 300 \\\n",
    "--warmup_epochs 0 \\\n",
    "--fold 1"
   ]
  },
  {
   "cell_type": "code",
   "execution_count": null,
   "metadata": {},
   "outputs": [],
   "source": [
    "!CUDA_VISIBEL_DEVICES=0 \\\n",
    "python -m torch.distributed.launch --nproc_per_node=1 \\\n",
    "CVPR/train_people_cl.py \\\n",
    "--csv-dir data/train_val_peoples_code_fold_6.csv \\\n",
    "--config-name 'config_eva_02_car_cl' \\\n",
    "--image-size 448 \\\n",
    "--epochs 10 \\\n",
    "--init-lr 3e-5 \\\n",
    "--batch-size 32 \\\n",
    "--num-workers 8 \\\n",
    "--nbatch_log 300 \\\n",
    "--warmup_epochs 0 \\\n",
    "--fold 1"
   ]
  },
  {
   "cell_type": "code",
   "execution_count": null,
   "metadata": {},
   "outputs": [],
   "source": [
    "!CUDA_VISIBEL_DEVICES=0 \\\n",
    "python -m torch.distributed.launch --nproc_per_node=1 \\\n",
    "CVPR/train_people_cl.py \\\n",
    "--csv-dir data/train_val_peoples_code_fold_7.csv \\\n",
    "--config-name 'config_eva_02_car_cl' \\\n",
    "--image-size 448 \\\n",
    "--epochs 10 \\\n",
    "--init-lr 3e-5 \\\n",
    "--batch-size 32 \\\n",
    "--num-workers 8 \\\n",
    "--nbatch_log 300 \\\n",
    "--warmup_epochs 0 \\\n",
    "--fold 1"
   ]
  },
  {
   "cell_type": "code",
   "execution_count": null,
   "metadata": {},
   "outputs": [],
   "source": [
    "!CUDA_VISIBEL_DEVICES=0 \\\n",
    "python -m torch.distributed.launch --nproc_per_node=1 \\\n",
    "CVPR/train_people_cl.py \\\n",
    "--csv-dir data/train_val_peoples_code_fold_8.csv \\\n",
    "--config-name 'config_eva_02_car_cl' \\\n",
    "--image-size 448 \\\n",
    "--epochs 10 \\\n",
    "--init-lr 3e-5 \\\n",
    "--batch-size 32 \\\n",
    "--num-workers 8 \\\n",
    "--nbatch_log 300 \\\n",
    "--warmup_epochs 0 \\\n",
    "--fold 1"
   ]
  },
  {
   "cell_type": "code",
   "execution_count": null,
   "metadata": {},
   "outputs": [],
   "source": [
    "!CUDA_VISIBEL_DEVICES=0 \\\n",
    "python -m torch.distributed.launch --nproc_per_node=1 \\\n",
    "CVPR/train_people_cl.py \\\n",
    "--csv-dir data/train_val_peoples_code_fold_9.csv \\\n",
    "--config-name 'config_eva_02_car_cl' \\\n",
    "--image-size 448 \\\n",
    "--epochs 10 \\\n",
    "--init-lr 3e-5 \\\n",
    "--batch-size 32 \\\n",
    "--num-workers 8 \\\n",
    "--nbatch_log 300 \\\n",
    "--warmup_epochs 0 \\\n",
    "--fold 1"
   ]
  },
  {
   "cell_type": "code",
   "execution_count": null,
   "metadata": {},
   "outputs": [],
   "source": [
    "!CUDA_VISIBEL_DEVICES=0 \\\n",
    "python -m torch.distributed.launch --nproc_per_node=1 \\\n",
    "CVPR/train_people_cl.py \\\n",
    "--csv-dir data/train_val_peoples_code_fold_10.csv \\\n",
    "--config-name 'config_eva_02_car_cl' \\\n",
    "--image-size 448 \\\n",
    "--epochs 10 \\\n",
    "--init-lr 3e-5 \\\n",
    "--batch-size 32 \\\n",
    "--num-workers 8 \\\n",
    "--nbatch_log 300 \\\n",
    "--warmup_epochs 0 \\\n",
    "--fold 1"
   ]
  },
  {
   "cell_type": "code",
   "execution_count": null,
   "metadata": {},
   "outputs": [],
   "source": [
    "!CUDA_VISIBEL_DEVICES=0 \\\n",
    "python -m torch.distributed.launch --nproc_per_node=1 \\\n",
    "CVPR/train_people_cl.py \\\n",
    "--csv-dir data/train_val_peoples_code_fold_11.csv \\\n",
    "--config-name 'config_eva_02_car_cl' \\\n",
    "--image-size 448 \\\n",
    "--epochs 10 \\\n",
    "--init-lr 3e-5 \\\n",
    "--batch-size 32 \\\n",
    "--num-workers 8 \\\n",
    "--nbatch_log 300 \\\n",
    "--warmup_epochs 0 \\\n",
    "--fold 1"
   ]
  },
  {
   "cell_type": "markdown",
   "metadata": {},
   "source": [
    "### Inference people cl"
   ]
  },
  {
   "cell_type": "markdown",
   "metadata": {},
   "source": [
    "* single"
   ]
  },
  {
   "cell_type": "code",
   "execution_count": null,
   "metadata": {},
   "outputs": [],
   "source": [
    "!python CVPR/val_people_cl.py \\\n",
    "--csv-dir data/train_val_peoples_code_fold.csv \\\n",
    "--config-name config_eva_vit_people_cl \\\n",
    "--image-size 224 \\\n",
    "--batch-size 32 \\\n",
    "--model_path \\\n",
    "    output/people/eva-l-people-0/eva-cl-l_best_ep8.pth \\\n",
    "    output/people/eva-l-people-1/eva-cl-l_best_ep8.pth \\\n",
    "    output/people/eva-l-people-2/eva-cl-l_best_ep8.pth \\\n",
    "    output/people/eva-l-people-3/eva-cl-l_best_ep8.pth \\\n",
    "    output/people/eva-l-people-4/eva-cl-l_best_ep8.pth \\\n",
    "    output/people/eva-l-people-5/eva-cl-l_best_ep8.pth \\\n",
    "    output/people/eva-l-people-6/eva-cl-l_best_ep8.pth \\\n",
    "    output/people/eva-l-people-7/eva-cl-l_best_ep8.pth \\\n",
    "    output/people/eva-l-people-8/eva-cl-l_best_ep8.pth \\\n",
    "    output/people/eva-l-people-9/eva-cl-l_best_ep8.pth \\\n",
    "    output/people/eva-l-people-10/eva-cl-l_best_ep8.pth \\\n",
    "    output/people/eva-l-people-11/eva-cl-l_best_ep8.pth \\\n",
    "--num-workers 8 \\\n",
    "--nbatch_log 300 \\\n",
    "--fold 1"
   ]
  },
  {
   "cell_type": "code",
   "execution_count": null,
   "metadata": {},
   "outputs": [],
   "source": [
    "!python CVPR/val_people_cl.py \\\n",
    "--csv-dir data/train_val_peoples_code_fold.csv \\\n",
    "--config-name config_eva_vit_people_cl \\\n",
    "--image-size 336 \\\n",
    "--batch-size 32 \\\n",
    "--model_path \\\n",
    "    output/people/eva-l-336-people-0/eva-cl-l_best_ep8.pth \\\n",
    "    output/people/eva-l-336-people-1/eva-cl-l_best_ep8.pth \\\n",
    "    output/people/eva-l-336-people-2/eva-cl-l_best_ep8.pth \\\n",
    "    output/people/eva-l-336-people-3/eva-cl-l_best_ep8.pth \\\n",
    "    output/people/eva-l-336-people-4/eva-cl-l_best_ep8.pth \\\n",
    "    output/people/eva-l-336-people-5/eva-cl-l_best_ep8.pth \\\n",
    "    output/people/eva-l-336-people-6/eva-cl-l_best_ep8.pth \\\n",
    "    output/people/eva-l-336-people-7/eva-cl-l_best_ep8.pth \\\n",
    "    output/people/eva-l-336-people-8/eva-cl-l_best_ep8.pth \\\n",
    "    output/people/eva-l-336-people-9/eva-cl-l_best_ep8.pth \\\n",
    "    output/people/eva-l-336-people-10/eva-cl-l_best_ep8.pth \\\n",
    "    output/people/eva-l-336-people-11/eva-cl-l_best_ep8.pth \\\n",
    "--num-workers 8 \\\n",
    "--nbatch_log 300 \\\n",
    "--fold 1"
   ]
  },
  {
   "cell_type": "code",
   "execution_count": null,
   "metadata": {},
   "outputs": [],
   "source": [
    "!python CVPR/val_people_cl.py \\\n",
    "--csv-dir data/train_val_peoples_code_fold.csv \\\n",
    "--config-name config_eva_02_people_cl \\\n",
    "--image-size 448 \\\n",
    "--batch-size 32 \\\n",
    "--model_path \\\n",
    "    output/people/eva02-l-448-people-0/eva_02-448_best_ep8.pth \\\n",
    "    output/people/eva02-l-448-people-1/eva_02-448_best_ep8.pth \\\n",
    "    output/people/eva02-l-448-people-2/eva_02-448_best_ep8.pth \\\n",
    "    output/people/eva02-l-448-people-3/eva_02-448_best_ep8.pth \\\n",
    "    output/people/eva02-l-448-people-4/eva_02-448_best_ep8.pth \\\n",
    "    output/people/eva02-l-448-people-5/eva_02-448_best_ep8.pth \\\n",
    "    output/people/eva02-l-448-people-6/eva_02-448_best_ep8.pth \\\n",
    "    output/people/eva02-l-448-people-7/eva_02-448_best_ep8.pth \\\n",
    "    output/people/eva02-l-448-people-8/eva_02-448_best_ep8.pth \\\n",
    "    output/people/eva02-l-448-people-9/eva_02-448_best_ep8.pth \\\n",
    "    output/people/eva02-l-448-people-10/eva_02-448_best_ep8.pth \\\n",
    "    output/people/eva02-l-448-people-11/eva_02-448_best_ep8.pth \\\n",
    "--num-workers 8 \\\n",
    "--nbatch_log 300 \\\n",
    "--fold 1"
   ]
  },
  {
   "cell_type": "markdown",
   "metadata": {},
   "source": [
    "* emsenble"
   ]
  },
  {
   "cell_type": "code",
   "execution_count": null,
   "metadata": {},
   "outputs": [],
   "source": [
    "!python CVPR/val_people_cl_emsenble.py \\\n",
    "--csv-dir data/train_val_peoples_code_fold.csv \\\n",
    "--config_names config_eva_vit_people_cl config_eva_02_people_cl \\\n",
    "--image-sizes 224 448 \\\n",
    "--model-weights 0.5 0.5 \\\n",
    "--batch-size 32 \\\n",
    "--model_path1 \\\n",
    "    output/people/eva-l-people-0/eva-cl-l_best_ep8.pth \\\n",
    "    output/people/eva-l-people-1/eva-cl-l_best_ep8.pth \\\n",
    "    output/people/eva-l-people-2/eva-cl-l_best_ep8.pth \\\n",
    "    output/people/eva-l-people-3/eva-cl-l_best_ep8.pth \\\n",
    "    output/people/eva-l-people-4/eva-cl-l_best_ep8.pth \\\n",
    "    output/people/eva-l-people-5/eva-cl-l_best_ep8.pth \\\n",
    "    output/people/eva-l-people-6/eva-cl-l_best_ep8.pth \\\n",
    "    output/people/eva-l-people-7/eva-cl-l_best_ep8.pth \\\n",
    "    output/people/eva-l-people-8/eva-cl-l_best_ep8.pth \\\n",
    "    output/people/eva-l-people-9/eva-cl-l_best_ep8.pth \\\n",
    "    output/people/eva-l-people-10/eva-cl-l_best_ep8.pth \\\n",
    "    output/people/eva-l-people-11/eva-cl-l_best_ep8.pth \\\n",
    "--model_path2 \\\n",
    "    output/people/eva02-l-448-people-0/eva_02-448_best_ep8.pth \\\n",
    "    output/people/eva02-l-448-people-1/eva_02-448_best_ep8.pth \\\n",
    "    output/people/eva02-l-448-people-2/eva_02-448_best_ep8.pth \\\n",
    "    output/people/eva02-l-448-people-3/eva_02-448_best_ep8.pth \\\n",
    "    output/people/eva02-l-448-people-4/eva_02-448_best_ep8.pth \\\n",
    "    output/people/eva02-l-448-people-5/eva_02-448_best_ep8.pth \\\n",
    "    output/people/eva02-l-448-people-6/eva_02-448_best_ep8.pth \\\n",
    "    output/people/eva02-l-448-people-7/eva_02-448_best_ep8.pth \\\n",
    "    output/people/eva02-l-448-people-8/eva_02-448_best_ep8.pth \\\n",
    "    output/people/eva02-l-448-people-9/eva_02-448_best_ep8.pth \\\n",
    "    output/people/eva02-l-448-people-10/eva_02-448_best_ep8.pth \\\n",
    "    output/people/eva02-l-448-people-11/eva_02-448_best_ep8.pth \\\n",
    "--num-workers 8 \\\n",
    "--nbatch_log 300 \\\n",
    "--fold 1"
   ]
  },
  {
   "cell_type": "code",
   "execution_count": null,
   "metadata": {},
   "outputs": [],
   "source": [
    "!python CVPR/val_people_cl_emsenble.py \\\n",
    "--csv-dir data/train_val_peoples_code_fold.csv \\\n",
    "--config_names config_eva_vit_people_cl config_eva_vit_people_cl config_eva_02_people_cl \\\n",
    "--image-sizes 224 336 448 \\\n",
    "--model-weights 0.35 0.15 0.5 \\\n",
    "--batch-size 32 \\\n",
    "--model_path1 \\\n",
    "    output/people/eva-l-people-0/eva-cl-l_best_ep8.pth \\\n",
    "    output/people/eva-l-people-1/eva-cl-l_best_ep8.pth \\\n",
    "    output/people/eva-l-people-2/eva-cl-l_best_ep8.pth \\\n",
    "    output/people/eva-l-people-3/eva-cl-l_best_ep8.pth \\\n",
    "    output/people/eva-l-people-4/eva-cl-l_best_ep8.pth \\\n",
    "    output/people/eva-l-people-5/eva-cl-l_best_ep8.pth \\\n",
    "    output/people/eva-l-people-6/eva-cl-l_best_ep8.pth \\\n",
    "    output/people/eva-l-people-7/eva-cl-l_best_ep8.pth \\\n",
    "    output/people/eva-l-people-8/eva-cl-l_best_ep8.pth \\\n",
    "    output/people/eva-l-people-9/eva-cl-l_best_ep8.pth \\\n",
    "    output/people/eva-l-people-10/eva-cl-l_best_ep8.pth \\\n",
    "    output/people/eva-l-people-11/eva-cl-l_best_ep8.pth \\\n",
    "--model_path2 \\\n",
    "    output/people/eva-l-336-people-0/eva-cl-l_best_ep8.pth \\\n",
    "    output/people/eva-l-336-people-1/eva-cl-l_best_ep8.pth \\\n",
    "    output/people/eva-l-336-people-2/eva-cl-l_best_ep8.pth \\\n",
    "    output/people/eva-l-336-people-3/eva-cl-l_best_ep8.pth \\\n",
    "    output/people/eva-l-336-people-4/eva-cl-l_best_ep8.pth \\\n",
    "    output/people/eva-l-336-people-5/eva-cl-l_best_ep8.pth \\\n",
    "    output/people/eva-l-336-people-6/eva-cl-l_best_ep8.pth \\\n",
    "    output/people/eva-l-336-people-7/eva-cl-l_best_ep8.pth \\\n",
    "    output/people/eva-l-336-people-8/eva-cl-l_best_ep8.pth \\\n",
    "    output/people/eva-l-336-people-9/eva-cl-l_best_ep8.pth \\\n",
    "    output/people/eva-l-336-people-10/eva-cl-l_best_ep8.pth \\\n",
    "    output/people/eva-l-336-people-11/eva-cl-l_best_ep8.pth \\\n",
    "--model_path3 \\\n",
    "    output/people/eva02-l-448-people-0/eva_02-448_best_ep8.pth \\\n",
    "    output/people/eva02-l-448-people-1/eva_02-448_best_ep8.pth \\\n",
    "    output/people/eva02-l-448-people-2/eva_02-448_best_ep8.pth \\\n",
    "    output/people/eva02-l-448-people-3/eva_02-448_best_ep8.pth \\\n",
    "    output/people/eva02-l-448-people-4/eva_02-448_best_ep8.pth \\\n",
    "    output/people/eva02-l-448-people-5/eva_02-448_best_ep8.pth \\\n",
    "    output/people/eva02-l-448-people-6/eva_02-448_best_ep8.pth \\\n",
    "    output/people/eva02-l-448-people-7/eva_02-448_best_ep8.pth \\\n",
    "    output/people/eva02-l-448-people-8/eva_02-448_best_ep8.pth \\\n",
    "    output/people/eva02-l-448-people-9/eva_02-448_best_ep8.pth \\\n",
    "    output/people/eva02-l-448-people-10/eva_02-448_best_ep8.pth \\\n",
    "    output/people/eva02-l-448-people-11/eva_02-448_best_ep8.pth \\\n",
    "--num-workers 8 \\\n",
    "--num-workers 8 \\\n",
    "--nbatch_log 300 \\\n",
    "--fold 1"
   ]
  }
 ],
 "metadata": {
  "kernelspec": {
   "display_name": "Python 3 (ipykernel)",
   "language": "python",
   "name": "python3"
  },
  "language_info": {
   "codemirror_mode": {
    "name": "ipython",
    "version": 3
   },
   "file_extension": ".py",
   "mimetype": "text/x-python",
   "name": "python",
   "nbconvert_exporter": "python",
   "pygments_lexer": "ipython3",
   "version": "3.8.10"
  },
  "vscode": {
   "interpreter": {
    "hash": "dc1fdf8315257af72404463f1ae84f6485d5212ca50b6e6157cecf4644ce291f"
   }
  }
 },
 "nbformat": 4,
 "nbformat_minor": 4
}
