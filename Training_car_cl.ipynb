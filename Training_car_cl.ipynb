{
 "cells": [
  {
   "cell_type": "markdown",
   "metadata": {},
   "source": [
    "#### Car_cl_type"
   ]
  },
  {
   "cell_type": "markdown",
   "metadata": {},
   "source": [
    "* 336"
   ]
  },
  {
   "cell_type": "code",
   "execution_count": null,
   "metadata": {},
   "outputs": [],
   "source": [
    "!CUDA_VISIBEL_DEVICES=0 \\\n",
    "python -m torch.distributed.launch --nproc_per_node=1 \\\n",
    "CVPR/train_car_cl.py \\\n",
    "--csv-dir data/train_val_cars_type_10fold.csv \\\n",
    "--config-name 'config_eva_vit_car_cl' \\\n",
    "--image-size 336 \\\n",
    "--epochs 10 \\\n",
    "--init-lr 3e-5 \\\n",
    "--batch-size 32 \\\n",
    "--num-workers 8 \\\n",
    "--nbatch_log 300 \\\n",
    "--warmup_epochs 0 \\\n",
    "--fold 1"
   ]
  },
  {
   "cell_type": "markdown",
   "metadata": {},
   "source": [
    "* 448"
   ]
  },
  {
   "cell_type": "code",
   "execution_count": null,
   "metadata": {},
   "outputs": [],
   "source": [
    "!CUDA_VISIBEL_DEVICES=0 \\\n",
    "python -m torch.distributed.launch --nproc_per_node=1 \\\n",
    "CVPR/train_car_cl.py \\\n",
    "--csv-dir data/train_val_cars_type_10fold.csv \\\n",
    "--config-name 'config_eva_02_car_cl' \\\n",
    "--image-size 448 \\\n",
    "--epochs 10 \\\n",
    "--init-lr 3e-5 \\\n",
    "--batch-size 32 \\\n",
    "--num-workers 8 \\\n",
    "--nbatch_log 300 \\\n",
    "--warmup_epochs 0 \\\n",
    "--fold 1"
   ]
  },
  {
   "cell_type": "markdown",
   "metadata": {},
   "source": [
    "* conv"
   ]
  },
  {
   "cell_type": "code",
   "execution_count": null,
   "metadata": {},
   "outputs": [],
   "source": [
    "!CUDA_VISIBEL_DEVICES=0 \\\n",
    "python -m torch.distributed.launch --nproc_per_node=1 \\\n",
    "CVPR/train_car_cl.py \\\n",
    "--csv-dir data/train_val_cars_type_10fold.csv \\\n",
    "--config-name 'config_conv_car_cl' \\\n",
    "--image-size 280 \\\n",
    "--epochs 10 \\\n",
    "--init-lr 3e-5 \\\n",
    "--batch-size 32 \\\n",
    "--num-workers 8 \\\n",
    "--nbatch_log 300 \\\n",
    "--warmup_epochs 0 \\\n",
    "--fold 1"
   ]
  },
  {
   "cell_type": "markdown",
   "metadata": {},
   "source": [
    "#### Car_cl_color"
   ]
  },
  {
   "cell_type": "markdown",
   "metadata": {},
   "source": [
    "* 336"
   ]
  },
  {
   "cell_type": "code",
   "execution_count": null,
   "metadata": {},
   "outputs": [],
   "source": [
    "!CUDA_VISIBEL_DEVICES=0 \\\n",
    "python -m torch.distributed.launch --nproc_per_node=1 \\\n",
    "CVPR/train_car_cl.py \\\n",
    "--csv-dir data/train_val_cars_color_10fold.csv \\\n",
    "--config-name 'config_eva_vit_car_cl' \\\n",
    "--image-size 336 \\\n",
    "--epochs 10 \\\n",
    "--init-lr 3e-5 \\\n",
    "--batch-size 32 \\\n",
    "--num-workers 8 \\\n",
    "--nbatch_log 300 \\\n",
    "--warmup_epochs 0 \\\n",
    "--fold 1"
   ]
  },
  {
   "cell_type": "markdown",
   "metadata": {},
   "source": [
    "* 448"
   ]
  },
  {
   "cell_type": "code",
   "execution_count": null,
   "metadata": {},
   "outputs": [],
   "source": [
    "!CUDA_VISIBEL_DEVICES=0 \\\n",
    "python -m torch.distributed.launch --nproc_per_node=1 \\\n",
    "CVPR/train_car_cl.py \\\n",
    "--csv-dir data/train_val_cars_color_10fold.csv \\\n",
    "--config-name 'config_eva_02_car_cl' \\\n",
    "--image-size 448 \\\n",
    "--epochs 10 \\\n",
    "--init-lr 3e-5 \\\n",
    "--batch-size 32 \\\n",
    "--num-workers 8 \\\n",
    "--nbatch_log 300 \\\n",
    "--warmup_epochs 0 \\\n",
    "--fold 1"
   ]
  },
  {
   "cell_type": "markdown",
   "metadata": {},
   "source": [
    "* conv"
   ]
  },
  {
   "cell_type": "code",
   "execution_count": null,
   "metadata": {},
   "outputs": [],
   "source": [
    "!CUDA_VISIBEL_DEVICES=0 \\\n",
    "python -m torch.distributed.launch --nproc_per_node=1 \\\n",
    "CVPR/train_car_cl.py \\\n",
    "--csv-dir data/train_val_cars_color_10fold.csv \\\n",
    "--config-name 'config_conv_car_cl' \\\n",
    "--image-size 280 \\\n",
    "--epochs 10 \\\n",
    "--init-lr 3e-5 \\\n",
    "--batch-size 32 \\\n",
    "--num-workers 8 \\\n",
    "--nbatch_log 300 \\\n",
    "--warmup_epochs 0 \\\n",
    "--fold 1"
   ]
  },
  {
   "cell_type": "markdown",
   "metadata": {},
   "source": [
    "#### Car_cl_brand"
   ]
  },
  {
   "cell_type": "markdown",
   "metadata": {},
   "source": [
    "* 336"
   ]
  },
  {
   "cell_type": "code",
   "execution_count": null,
   "metadata": {},
   "outputs": [],
   "source": [
    "!CUDA_VISIBEL_DEVICES=0 \\\n",
    "python -m torch.distributed.launch --nproc_per_node=1 \\\n",
    "CVPR/train_car_cl.py \\\n",
    "--csv-dir data/train_val_cars_brand_10fold.csv \\\n",
    "--config-name 'config_eva_vit_car_cl' \\\n",
    "--image-size 336 \\\n",
    "--epochs 10 \\\n",
    "--init-lr 3e-5 \\\n",
    "--batch-size 32 \\\n",
    "--num-workers 8 \\\n",
    "--nbatch_log 300 \\\n",
    "--warmup_epochs 0 \\\n",
    "--fold 1"
   ]
  },
  {
   "cell_type": "markdown",
   "metadata": {},
   "source": [
    "* 448"
   ]
  },
  {
   "cell_type": "code",
   "execution_count": null,
   "metadata": {},
   "outputs": [],
   "source": [
    "!CUDA_VISIBEL_DEVICES=0 \\\n",
    "python -m torch.distributed.launch --nproc_per_node=1 \\\n",
    "CVPR/train_car_cl.py \\\n",
    "--csv-dir data/train_val_cars_brand_10fold.csv \\\n",
    "--config-name 'config_eva_02_car_cl' \\\n",
    "--image-size 448 \\\n",
    "--epochs 10 \\\n",
    "--init-lr 3e-5 \\\n",
    "--batch-size 32 \\\n",
    "--num-workers 8 \\\n",
    "--nbatch_log 300 \\\n",
    "--warmup_epochs 0 \\\n",
    "--fold 1"
   ]
  },
  {
   "cell_type": "markdown",
   "metadata": {},
   "source": [
    "* conv"
   ]
  },
  {
   "cell_type": "code",
   "execution_count": null,
   "metadata": {},
   "outputs": [],
   "source": [
    "!CUDA_VISIBEL_DEVICES=0 \\\n",
    "python -m torch.distributed.launch --nproc_per_node=1 \\\n",
    "CVPR/train_car_cl.py \\\n",
    "--csv-dir data/train_val_cars_brand_10fold.csv \\\n",
    "--config-name 'config_conv_car_cl' \\\n",
    "--image-size 280 \\\n",
    "--epochs 10 \\\n",
    "--init-lr 3e-5 \\\n",
    "--batch-size 32 \\\n",
    "--num-workers 8 \\\n",
    "--nbatch_log 300 \\\n",
    "--warmup_epochs 0 \\\n",
    "--fold 1"
   ]
  },
  {
   "cell_type": "markdown",
   "metadata": {},
   "source": [
    "### Inference"
   ]
  },
  {
   "cell_type": "markdown",
   "metadata": {},
   "source": [
    "* eva-clip"
   ]
  },
  {
   "cell_type": "code",
   "execution_count": null,
   "metadata": {
    "tags": []
   },
   "outputs": [],
   "source": [
    "!python CVPR/inference_car.py \\\n",
    "--csv-dir data/test/test_car.csv \\\n",
    "--config-name 'config_eva_vit_car_cl' \\\n",
    "--image-size 336 \\\n",
    "--batch-size 32 \\\n",
    "--model_path_1 output/car/eva-l-336-car-type/eva-cl-l_best_ep4.pth \\\n",
    "--model_path_2 output/car/eva-l-336-car-color/eva-cl-l_best_ep6.pth \\\n",
    "--model_path_3 output/car/eva-l-336-car-brand/eva-cl-l_best_ep6.pth \\\n",
    "--num-workers 8 \\\n",
    "--fold 1"
   ]
  },
  {
   "cell_type": "markdown",
   "metadata": {},
   "source": [
    "* eva-timm"
   ]
  },
  {
   "cell_type": "code",
   "execution_count": null,
   "metadata": {},
   "outputs": [],
   "source": [
    "!python CVPR/inference_car.py \\\n",
    "--csv-dir data/test/test_car.csv \\\n",
    "--config-name 'config_eva_02_car_cl' \\\n",
    "--image-size 448 \\\n",
    "--batch-size 32 \\\n",
    "--model_path_1 output/car/eva_02-car-type/eva_02-448_best_ep5.pth \\\n",
    "--model_path_2 output/car/eva_02-car-color/eva_02-448_best_ep5.pth \\\n",
    "--model_path_3 output/car/eva_02-car-brand/eva_02-448_best_ep5.pth \\\n",
    "--num-workers 8 \\\n",
    "--fold 1"
   ]
  },
  {
   "cell_type": "markdown",
   "metadata": {},
   "source": [
    "* conv"
   ]
  },
  {
   "cell_type": "code",
   "execution_count": null,
   "metadata": {},
   "outputs": [],
   "source": [
    "!python CVPR/inference_car.py \\\n",
    "--csv-dir data/test/test_car.csv \\\n",
    "--config-name 'config_conv_car_cl' \\\n",
    "--image-size 280 \\\n",
    "--batch-size 32 \\\n",
    "--model_path_1 output/car/conv-car-type/convnext_xxlarge_best_ep4.pth \\\n",
    "--model_path_2 output/car/conv-car-color/convnext_xxlarge_best_ep4.pth \\\n",
    "--model_path_3 output/car/conv-car-brand/convnext_xxlarge_best_ep4.pth \\\n",
    "--num-workers 8 \\\n",
    "--fold 1"
   ]
  },
  {
   "cell_type": "markdown",
   "metadata": {},
   "source": [
    "* emsenble"
   ]
  },
  {
   "cell_type": "code",
   "execution_count": null,
   "metadata": {
    "tags": []
   },
   "outputs": [],
   "source": [
    "!python CVPR/inference_car_emsenble.py \\\n",
    "--csv-dir data/test/test_car.csv \\\n",
    "--config_names config_eva_02_car_cl config_conv_car_cl \\\n",
    "--image-sizes 448 320 \\\n",
    "--model-weights 0.8 0.2 \\\n",
    "--model_paths1 output/car/eva_02-car-type/eva_02-448_best_ep5.pth output/car/conv-car-type/convnext_xxlarge_best_ep5.pth \\\n",
    "--model_paths2 output/car/eva_02-car-color/eva_02-448_best_ep5.pth output/car/conv-car-color/convnext_xxlarge_best_ep5.pth \\\n",
    "--model_paths3 output/car/eva_02-car-brand/eva_02-448_best_ep5.pth output/car/conv-car-brand/convnext_xxlarge_best_ep5.pth \\\n",
    "--batch-size 32 \\\n",
    "--num-workers 8 \\\n",
    "--fold 1"
   ]
  },
  {
   "cell_type": "markdown",
   "metadata": {},
   "source": [
    "### Making pseudo label"
   ]
  },
  {
   "cell_type": "code",
   "execution_count": null,
   "metadata": {},
   "outputs": [],
   "source": [
    "!python CVPR/pseudo_label_car.py \\\n",
    "--csv-dir data/train_val_cars.csv \\\n",
    "--config_names config_eva_vit_car_cl config_eva_02_car_cl config_conv_car_cl \\\n",
    "--image-sizes 224 448 320 \\\n",
    "--model-weights 0.33 0.33 0.33 \\\n",
    "--model_paths1 output/car/eva-l-car-type/eva-cl-l_best_ep4.pth output/car/eva_02-car-type/eva_02-448_best_ep4.pth output/car/conv-car-type/convnext_xxlarge_best_ep4.pth \\\n",
    "--model_paths2 output/car/eva-l-car-color/eva-cl-l_best_ep4.pth output/car/eva_02-car-color/eva_02-448_best_ep4.pth output/car/conv-car-color/convnext_xxlarge_best_ep4.pth \\\n",
    "--model_paths3 output/car/eva-l-car-brand/eva-cl-l_best_ep4.pth output/car/eva_02-car-brand/eva_02-448_best_ep4.pth output/car/conv-car-brand/convnext_xxlarge_best_ep4.pth \\\n",
    "--batch-size 32 \\\n",
    "--num-workers 8 \\\n",
    "--fold 1"
   ]
  }
 ],
 "metadata": {
  "kernelspec": {
   "display_name": "Python 3 (ipykernel)",
   "language": "python",
   "name": "python3"
  },
  "language_info": {
   "codemirror_mode": {
    "name": "ipython",
    "version": 3
   },
   "file_extension": ".py",
   "mimetype": "text/x-python",
   "name": "python",
   "nbconvert_exporter": "python",
   "pygments_lexer": "ipython3",
   "version": "3.8.10"
  },
  "vscode": {
   "interpreter": {
    "hash": "dc1fdf8315257af72404463f1ae84f6485d5212ca50b6e6157cecf4644ce291f"
   }
  }
 },
 "nbformat": 4,
 "nbformat_minor": 4
}
