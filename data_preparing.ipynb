{
 "cells": [
  {
   "cell_type": "markdown",
   "metadata": {},
   "source": [
    "### Car"
   ]
  },
  {
   "cell_type": "code",
   "execution_count": null,
   "metadata": {},
   "outputs": [],
   "source": [
    "import pandas as pd\n",
    "from sklearn.model_selection import StratifiedKFold\n",
    "from tqdm.notebook import tqdm\n",
    "import numpy as np\n",
    "df = pd.read_csv('data/train_val_cars_pseudo.csv')\n",
    "df = df[(df['type_pseudo_logits'].isna()) | (df['type_pseudo_logits']>0.8)].reset_index(drop=True)\n",
    "split = list(StratifiedKFold(n_splits=10, shuffle=True, random_state=1).split(df, df['type']))\n",
    "for fold, (train_index, val_index) in enumerate(tqdm(split)):\n",
    "    df.loc[val_index, 'fold'] = fold\n",
    "df.to_csv('data/train_val_cars_type_10fold.csv', index=False)\n",
    "df"
   ]
  },
  {
   "cell_type": "code",
   "execution_count": null,
   "metadata": {},
   "outputs": [],
   "source": [
    "import pandas as pd\n",
    "from sklearn.model_selection import StratifiedKFold\n",
    "from tqdm.notebook import tqdm\n",
    "import numpy as np\n",
    "# df = pd.read_csv('data/train_val_cars.csv')\n",
    "# df = df[df['color'].notna()].reset_index(drop=True)\n",
    "df = pd.read_csv('data/train_val_cars_pseudo.csv')\n",
    "df = df[(df['color_pseudo_logits'].isna()) | (df['color_pseudo_logits']>0.6)].reset_index(drop=True)\n",
    "split = list(StratifiedKFold(n_splits=10, shuffle=True, random_state=1).split(df, df['color']))\n",
    "for fold, (train_index, val_index) in enumerate(tqdm(split)):\n",
    "    df.loc[val_index, 'fold'] = fold\n",
    "df.to_csv('data/train_val_cars_color_10fold.csv', index=False)\n",
    "df"
   ]
  },
  {
   "cell_type": "code",
   "execution_count": null,
   "metadata": {},
   "outputs": [],
   "source": [
    "import pandas as pd\n",
    "from sklearn.model_selection import StratifiedKFold\n",
    "from tqdm.notebook import tqdm\n",
    "import numpy as np\n",
    "# df = pd.read_csv('data/train_val_cars.csv')\n",
    "# df = df[df['brand'].notna()].reset_index(drop=True)\n",
    "df = pd.read_csv('data/train_val_cars_pseudo.csv')\n",
    "df = df[(df['brand_pseudo_logits'].isna()) | (df['brand_pseudo_logits']>0.6)].reset_index(drop=True)\n",
    "split = list(StratifiedKFold(n_splits=10, shuffle=True, random_state=1).split(df, df['brand']))\n",
    "for fold, (train_index, val_index) in enumerate(tqdm(split)):\n",
    "    df.loc[val_index, 'fold'] = fold\n",
    "df.to_csv('data/train_val_cars_brand_10fold.csv', index=False)\n",
    "df"
   ]
  },
  {
   "cell_type": "markdown",
   "metadata": {},
   "source": [
    "### People"
   ]
  },
  {
   "cell_type": "code",
   "execution_count": null,
   "metadata": {},
   "outputs": [],
   "source": [
    "import pandas as pd\n",
    "from sklearn.model_selection import StratifiedKFold\n",
    "from tqdm.notebook import tqdm\n",
    "df = pd.read_csv('data/train_val_peoples.csv')\n",
    "split = list(StratifiedKFold(n_splits=10, shuffle=True, random_state=1).split(df, df['code']))\n",
    "for fold, (train_index, val_index) in enumerate(tqdm(split)):\n",
    "    df.loc[val_index, 'fold'] = fold\n",
    "df.to_csv('data/train_val_peoples_code_10fold.csv', index=False)\n",
    "df"
   ]
  },
  {
   "cell_type": "markdown",
   "metadata": {},
   "source": [
    "### cl"
   ]
  },
  {
   "cell_type": "code",
   "execution_count": null,
   "metadata": {},
   "outputs": [],
   "source": [
    "import pandas as pd\n",
    "from sklearn.model_selection import StratifiedKFold\n",
    "from tqdm.notebook import tqdm\n",
    "df1 = pd.read_csv('data/train_val_cars.csv')\n",
    "df2 = pd.read_csv('data/train_val_peoples.csv')\n",
    "df = pd.concat([df1, df2], axis=0)[['img_path']].reset_index(drop=True)\n",
    "df['label'] = list(map(lambda x:int(x.split('/')[-1].split('.')[0].isdigit()), df['img_path'].tolist()))\n",
    "# df.to_csv('data/train_val_cl.csv')\n",
    "split = list(StratifiedKFold(n_splits=20, shuffle=True, random_state=1).split(df, df['label']))\n",
    "for fold, (train_index, val_index) in enumerate(tqdm(split)):\n",
    "    df.loc[val_index, 'fold'] = fold\n",
    "df.to_csv('data/train_val_cl_20fold.csv', index=False)\n",
    "df"
   ]
  }
 ],
 "metadata": {
  "kernelspec": {
   "display_name": "Python 3 (ipykernel)",
   "language": "python",
   "name": "python3"
  },
  "language_info": {
   "codemirror_mode": {
    "name": "ipython",
    "version": 3
   },
   "file_extension": ".py",
   "mimetype": "text/x-python",
   "name": "python",
   "nbconvert_exporter": "python",
   "pygments_lexer": "ipython3",
   "version": "3.8.10"
  }
 },
 "nbformat": 4,
 "nbformat_minor": 4
}
